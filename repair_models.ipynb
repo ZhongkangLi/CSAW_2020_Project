{
 "cells": [
  {
   "cell_type": "code",
   "execution_count": 31,
   "metadata": {},
   "outputs": [],
   "source": [
    "import keras\n",
    "import h5py\n",
    "import tensorflow\n",
    "import numpy as np\n",
    "import matplotlib.pyplot as plt"
   ]
  },
  {
   "cell_type": "code",
   "execution_count": 92,
   "metadata": {},
   "outputs": [],
   "source": [
    "def data_loader(filepath):\n",
    "    data = h5py.File(filepath, 'r')\n",
    "    x_data = np.array(data['data'])\n",
    "    y_data = np.array(data['label'])\n",
    "    x_data = x_data.transpose((0,2,3,1))\n",
    "\n",
    "    return x_data/255, y_data"
   ]
  },
  {
   "cell_type": "code",
   "execution_count": 20,
   "metadata": {},
   "outputs": [],
   "source": [
    "#load data files\n",
    "clean_test_data = 'data/clean_test_data.h5'\n",
    "clean_val_data = 'data/clean_validation_data.h5'\n",
    "sunglass_data = 'data/sunglasses_poisoned_data.h5'\n",
    "anonymous_data = 'data/anonymous_1_poisoned_data.h5'\n",
    "multi_eyebrows_data = 'data/Multi-trigger Multi-target/eyebrows_poisoned_data.h5'\n",
    "multi_lipstick_data = 'data/Multi-trigger Multi-target/lipstick_poisoned_data.h5'\n",
    "multi_sunglass_data = 'data/Multi-trigger Multi-target/sunglasses_poisoned_data.h5'\n",
    "\n",
    "x_test_clean, y_test_clean = data_loader(clean_test_data)\n",
    "x_va_clean, y_val_clean = data_loader(clean_val_data)\n",
    "x_sunglass, y_sunglass = data_loader(sunglass_data)\n",
    "x_anonymous, y_anonymous = data_loader(anonymous_data)\n",
    "x_multi_eyebrow, y_multi_eyebrow = data_loader(multi_eyebrows_data)\n",
    "x_multi_lipstick, y_multi_lipstick = data_loader(multi_lipstick_data)\n",
    "x_multi_sunglass, y_multi_sunglass = data_loader(multi_sunglass_data)\n"
   ]
  },
  {
   "cell_type": "code",
   "execution_count": 21,
   "metadata": {},
   "outputs": [],
   "source": [
    "model_sunglass = 'models/sunglasses_bd_net.h5'\n",
    "model_sunglass_weights = 'models/sunglasses_bd_weights.h5'\n",
    "model_anonymous_1 = 'models/anonymous_1_bd_net.h5'\n",
    "model_anonymous_1_weights = 'models/anonymous_1_bd_weights.h5'\n",
    "model_anonymous_2 = 'models/anonymous_2_bd_net.h5'\n",
    "model_anonymous_2_weights = 'models/anonymous_2_bd_weights.h5'\n",
    "model_multi = 'models/multi_trigger_multi_target_bd_net.h5'\n",
    "model_multi_weights = 'models/multi_trigger_multi_target_bd_weights.h5'"
   ]
  },
  {
   "cell_type": "code",
   "execution_count": 10,
   "metadata": {},
   "outputs": [],
   "source": [
    "def Net():\n",
    "\t# define input\n",
    "\tx = keras.Input(shape=(55, 47, 3), name='input')\n",
    "\t# feature extraction\n",
    "\tconv_1 = keras.layers.Conv2D(20, (4, 4), activation='relu', name='conv_1')(x)\n",
    "\tpool_1 = keras.layers.MaxPooling2D((2, 2), name='pool_1')(conv_1)\n",
    "\tconv_2 = keras.layers.Conv2D(40, (3, 3), activation='relu', name='conv_2')(pool_1)\n",
    "\tpool_2 = keras.layers.MaxPooling2D((2, 2), name='pool_2')(conv_2)\n",
    "\tconv_3 = keras.layers.Conv2D(60, (3, 3), activation='relu', name='conv_3')(pool_2)\n",
    "\tpool_3 = keras.layers.MaxPooling2D((2, 2), name='pool_3')(conv_3)\n",
    "\t# first interpretation model\n",
    "\tflat_1 = keras.layers.Flatten()(pool_3)\t\n",
    "\tfc_1 = keras.layers.Dense(160, name='fc_1')(flat_1)\n",
    "\t# second interpretation model\n",
    "\tconv_4 = keras.layers.Conv2D(80, (2, 2), activation='relu', name='conv_4')(pool_3)\n",
    "\tflat_2 = keras.layers.Flatten()(conv_4)\n",
    "\tfc_2 = keras.layers.Dense(160, name='fc_2')(flat_2)\n",
    "\t# merge interpretation\n",
    "\tmerge = keras.layers.Add()([fc_1, fc_2])\n",
    "\tadd_1 = keras.layers.Activation('relu')(merge)\n",
    "\tdrop = keras.layers.Dropout(0.5)\n",
    "\t# output\n",
    "\ty_hat = keras.layers.Dense(1283, activation='softmax', name='output')(add_1)\n",
    "\tmodel = keras.Model(inputs=x, outputs=y_hat)\n",
    "\t# summarize layers\n",
    "\t#print(model.summary())\n",
    "\t# plot graph\n",
    "\t#plot_model(model, to_file='model_architecture.png')\n",
    "\n",
    "\treturn model"
   ]
  },
  {
   "cell_type": "code",
   "execution_count": 27,
   "metadata": {},
   "outputs": [],
   "source": [
    "def eval(model, x_test_c, y_test_c, x_test_bd, y_test_bd):\n",
    "    clean_label_p = np.argmax(model.predict(x_test_c), axis=1)\n",
    "    class_accu = np.mean(np.equal(clean_label_p, y_test_c))*100\n",
    "    print('Classification accuracy:', class_accu)\n",
    "        \n",
    "    bd_label_p = np.argmax(model.predict(x_test_bd), axis=1)\n",
    "    asr = np.mean(np.equal(bd_label_p, y_test_bd))*100\n",
    "    print('Attack Success Rate:', asr)"
   ]
  },
  {
   "cell_type": "markdown",
   "metadata": {},
   "source": [
    "### Pruning sunglass model"
   ]
  },
  {
   "cell_type": "markdown",
   "metadata": {},
   "source": [
    "Before pruning:"
   ]
  },
  {
   "cell_type": "code",
   "execution_count": 28,
   "metadata": {},
   "outputs": [
    {
     "name": "stdout",
     "output_type": "stream",
     "text": [
      "Classification accuracy: 97.77864380358535\n",
      "Attack Success Rate: 99.99220576773187\n"
     ]
    }
   ],
   "source": [
    "sunglass_model = keras.models.load_model(model_sunglass)\n",
    "eval(sunglass_model, x_test_clean, y_test_clean, x_sunglass, y_sunglass)"
   ]
  },
  {
   "cell_type": "code",
   "execution_count": 33,
   "metadata": {},
   "outputs": [
    {
     "name": "stdout",
     "output_type": "stream",
     "text": [
      "Epoch 1/15\n",
      "361/361 [==============================] - 18s 46ms/step - loss: 7.1639 - accuracy: 3.4641e-04\n",
      "Epoch 2/15\n",
      "361/361 [==============================] - 15s 42ms/step - loss: 7.1598 - accuracy: 4.3301e-04\n",
      "Epoch 3/15\n",
      "361/361 [==============================] - 17s 47ms/step - loss: 6.5884 - accuracy: 0.0204\n",
      "Epoch 4/15\n",
      "361/361 [==============================] - 17s 47ms/step - loss: 4.4169 - accuracy: 0.2175\n",
      "Epoch 5/15\n",
      "361/361 [==============================] - 17s 46ms/step - loss: 2.9814 - accuracy: 0.4352\n",
      "Epoch 6/15\n",
      "361/361 [==============================] - 13s 37ms/step - loss: 2.0878 - accuracy: 0.5851\n",
      "Epoch 7/15\n",
      "361/361 [==============================] - 14s 38ms/step - loss: 1.4915 - accuracy: 0.6901\n",
      "Epoch 8/15\n",
      "361/361 [==============================] - 13s 37ms/step - loss: 1.0540 - accuracy: 0.7724\n",
      "Epoch 9/15\n",
      "361/361 [==============================] - 14s 39ms/step - loss: 0.7438 - accuracy: 0.8353\n",
      "Epoch 10/15\n",
      "361/361 [==============================] - 14s 39ms/step - loss: 0.5113 - accuracy: 0.8773\n",
      "Epoch 11/15\n",
      "361/361 [==============================] - 14s 39ms/step - loss: 0.3543 - accuracy: 0.9111\n",
      "Epoch 12/15\n",
      "361/361 [==============================] - 13s 37ms/step - loss: 0.2313 - accuracy: 0.9380\n",
      "Epoch 13/15\n",
      "361/361 [==============================] - 14s 38ms/step - loss: 0.1605 - accuracy: 0.9547\n",
      "Epoch 14/15\n",
      "361/361 [==============================] - 14s 39ms/step - loss: 0.1423 - accuracy: 0.9586\n",
      "Epoch 15/15\n",
      "361/361 [==============================] - 14s 38ms/step - loss: 0.1079 - accuracy: 0.9678\n",
      "Classification accuracy: 68.82307092751364\n",
      "Attack Success Rate: 0.0\n"
     ]
    }
   ],
   "source": [
    "new_model = Net()\n",
    "loss = tensorflow.keras.losses.SparseCategoricalCrossentropy(from_logits=True)\n",
    "new_model.compile(optimizer='adam', loss=loss, metrics=['accuracy'])\n",
    "new_model.fit(x_va_clean, y_val_clean, epochs=15)\n",
    "eval(new_model, x_test_clean, y_test_clean, x_sunglass, y_sunglass)"
   ]
  },
  {
   "cell_type": "markdown",
   "metadata": {},
   "source": [
    "As we can see from the result, althought the attack rate is 0%, the accuracy is high enough. So, we need to prune each layer."
   ]
  },
  {
   "cell_type": "code",
   "execution_count": 50,
   "metadata": {},
   "outputs": [
    {
     "name": "stdout",
     "output_type": "stream",
     "text": [
      "0.9789555728760717\n",
      "0.9789555728760717\n",
      "0.9789555728760717\n",
      "0.9789555728760717\n",
      "0.978695765133801\n",
      "0.9785225599722872\n",
      "0.978695765133801\n",
      "0.9787823677145578\n",
      "0.9782627522300165\n",
      "0.977743136745475\n",
      "0.9773967264224473\n",
      "0.97592448254958\n",
      "0.9752316619035247\n",
      "0.9748852515804971\n",
      "0.9732398025461159\n",
      "0.9719407638347622\n",
      "0.9701221096388672\n",
      "0.9693426864120551\n",
      "0.9676972373776739\n",
      "0.9685632631852429\n",
      "0.966571403827834\n",
      "0.9577379405906296\n",
      "0.9519355676799168\n",
      "0.949077682514939\n",
      "0.9492508876764527\n",
      "0.9415432579890881\n",
      "0.9392915908894085\n",
      "0.9373863341127565\n",
      "0.9264744089373863\n",
      "0.8997142114835022\n",
      "Classification accuracy: 89.78176149649259\n",
      "Attack Success Rate: 99.92205767731879\n"
     ]
    }
   ],
   "source": [
    "pruned_model = keras.models.clone_model(sunglass_model)\n",
    "pruned_model.set_weights(sunglass_model.get_weights())\n",
    "pruning_layer = pruned_model.get_layer('conv_3')\n",
    "layer_model = keras.Model(inputs=pruned_model.input, outputs=pruned_model.get_layer('conv_3').output)\n",
    "layer_pred = layer_model.predict(x_va_clean).sum(axis=(0, 1, 2))\n",
    "id_sort = np.argsort(layer_pred)\n",
    "limit = 30 #prune 30 channels\n",
    "count = 0\n",
    "for del_i in id_sort:\n",
    "    if layer_pred[del_i] < 1e-5: continue\n",
    "    if count >= limit: break\n",
    "    weights = np.array(pruning_layer.get_weights()[0])\n",
    "    bias = pruning_layer.get_weights()[1]\n",
    "    weights[:, :, :, del_i] = np.zeros((3, 3, 40))\n",
    "    pruning_layer.set_weights(list([weights, bias]))\n",
    "    clean_pred = np.argmax(pruned_model.predict(x_va_clean), axis=1)\n",
    "    acc =  np.mean(np.equal(clean_pred, y_val_clean))\n",
    "    print(acc)\n",
    "    count += 1\n",
    "eval(pruned_model, x_test_clean, y_test_clean, x_sunglass, y_sunglass)"
   ]
  },
  {
   "cell_type": "markdown",
   "metadata": {},
   "source": [
    "After pruning the model, the attack success rate is still high, so we retrain the model using clean validation model."
   ]
  },
  {
   "cell_type": "code",
   "execution_count": 51,
   "metadata": {},
   "outputs": [
    {
     "name": "stdout",
     "output_type": "stream",
     "text": [
      "Epoch 1/8\n",
      "361/361 [==============================] - 14s 37ms/step - loss: 1.1085 - accuracy: 0.7859\n",
      "Epoch 2/8\n",
      "361/361 [==============================] - 14s 38ms/step - loss: 0.2676 - accuracy: 0.9389\n",
      "Epoch 3/8\n",
      "361/361 [==============================] - 15s 42ms/step - loss: 0.2146 - accuracy: 0.9424\n",
      "Epoch 4/8\n",
      "361/361 [==============================] - 14s 39ms/step - loss: 0.1625 - accuracy: 0.9556\n",
      "Epoch 5/8\n",
      "361/361 [==============================] - 16s 45ms/step - loss: 0.1726 - accuracy: 0.9486\n",
      "Epoch 6/8\n",
      "361/361 [==============================] - 15s 40ms/step - loss: 0.1355 - accuracy: 0.9637\n",
      "Epoch 7/8\n",
      "361/361 [==============================] - 16s 44ms/step - loss: 0.0893 - accuracy: 0.9766\n",
      "Epoch 8/8\n",
      "361/361 [==============================] - 15s 42ms/step - loss: 0.0811 - accuracy: 0.9779\n",
      "Classification accuracy: 86.6796570537802\n",
      "Attack Success Rate: 0.7716289945440374\n"
     ]
    }
   ],
   "source": [
    "pruned_model.compile(\n",
    "    optimizer='adam',\n",
    "    loss=keras.losses.SparseCategoricalCrossentropy(from_logits=True),\n",
    "    metrics=['accuracy'])\n",
    "pruned_model.fit(x_va_clean, y_val_clean, epochs=8)\n",
    "eval(pruned_model, x_test_clean, y_test_clean, x_sunglass, y_sunglass)"
   ]
  },
  {
   "cell_type": "markdown",
   "metadata": {},
   "source": [
    "Compared to the model that simply retrained with the clean validation data (Classification accuracy: 68.82%\n",
    "Attack Success Rate: 0.0) , this is a better result we expected."
   ]
  },
  {
   "cell_type": "code",
   "execution_count": 53,
   "metadata": {},
   "outputs": [
    {
     "name": "stderr",
     "output_type": "stream",
     "text": [
      "/opt/anaconda3/lib/python3.8/site-packages/keras/engine/functional.py:1410: CustomMaskWarning: Custom mask layers require a config and must override get_config. When loading, the custom mask layer must be passed to the custom_objects argument.\n",
      "  layer_config = serialize_layer_fn(layer)\n"
     ]
    }
   ],
   "source": [
    "pruned_model.save('repaired_models/repaired_sunglass.h5')"
   ]
  },
  {
   "cell_type": "markdown",
   "metadata": {},
   "source": [
    "### Prune the anonymous model"
   ]
  },
  {
   "cell_type": "markdown",
   "metadata": {},
   "source": [
    "Before pruning:"
   ]
  },
  {
   "cell_type": "code",
   "execution_count": 82,
   "metadata": {},
   "outputs": [
    {
     "name": "stdout",
     "output_type": "stream",
     "text": [
      "Classification accuracy: 97.1862821512081\n",
      "Attack Success Rate: 91.3971161340608\n"
     ]
    }
   ],
   "source": [
    "anonymous = keras.models.load_model(model_anonymous_1)\n",
    "eval(anonymous, x_test_clean, y_test_clean, x_anonymous, y_anonymous)"
   ]
  },
  {
   "cell_type": "code",
   "execution_count": 70,
   "metadata": {},
   "outputs": [
    {
     "name": "stdout",
     "output_type": "stream",
     "text": [
      "0.9717675586732485\n",
      "0.9717675586732485\n",
      "0.9717675586732485\n",
      "0.9717675586732485\n",
      "0.9717675586732485\n",
      "0.9715943535117346\n",
      "0.9714211483502209\n",
      "0.9714211483502209\n",
      "0.9714211483502209\n",
      "0.971247943188707\n",
      "0.9707283277041656\n",
      "0.970381917381138\n",
      "0.9698623018965965\n",
      "0.9696024941543258\n",
      "0.9691694812505413\n",
      "0.9683034554429722\n",
      "0.9668312115701048\n",
      "0.9649259547934529\n",
      "0.9630206980168009\n",
      "0.9618948644669612\n",
      "0.9503767212262926\n",
      "0.9496839005802373\n",
      "0.9504633238070495\n",
      "0.9493374902572097\n",
      "0.9423226812159002\n",
      "0.9366935134667013\n",
      "0.9204122282844028\n",
      "0.9043041482636183\n",
      "0.8911405559885685\n",
      "0.8883692734043475\n",
      "Classification accuracy: 88.6983632112237\n",
      "Attack Success Rate: 59.14848012470772\n"
     ]
    }
   ],
   "source": [
    "pruned_model = keras.models.clone_model(anonymous)\n",
    "pruned_model.set_weights(anonymous.get_weights())\n",
    "pruning_layer = pruned_model.get_layer('conv_3')\n",
    "layer_model = keras.Model(inputs=pruned_model.input, outputs=pruned_model.get_layer('conv_3').output)\n",
    "layer_pred = layer_model.predict(x_va_clean).sum(axis=(0, 1, 2))\n",
    "id_sort = np.argsort(layer_pred)\n",
    "limit = 30 #prune 30 channels\n",
    "count = 0\n",
    "for del_i in id_sort:\n",
    "    if layer_pred[del_i] < 1e-5: continue\n",
    "    if count >= limit: break\n",
    "    weights = np.array(pruning_layer.get_weights()[0])\n",
    "    bias = pruning_layer.get_weights()[1]\n",
    "    weights[:, :, :, del_i] = np.zeros((3, 3, 40))\n",
    "    pruning_layer.set_weights(list([weights, bias]))\n",
    "    clean_pred = np.argmax(pruned_model.predict(x_va_clean), axis=1)\n",
    "    acc =  np.mean(np.equal(clean_pred, y_val_clean))\n",
    "    print(acc)\n",
    "    count += 1\n",
    "eval(pruned_model, x_test_clean, y_test_clean, x_anonymous, y_anonymous)"
   ]
  },
  {
   "cell_type": "code",
   "execution_count": 71,
   "metadata": {},
   "outputs": [
    {
     "name": "stdout",
     "output_type": "stream",
     "text": [
      "Epoch 1/8\n"
     ]
    },
    {
     "name": "stderr",
     "output_type": "stream",
     "text": [
      "/opt/anaconda3/lib/python3.8/site-packages/tensorflow/python/util/dispatch.py:1096: UserWarning: \"`sparse_categorical_crossentropy` received `from_logits=True`, but the `output` argument was produced by a sigmoid or softmax activation and thus does not represent logits. Was this intended?\"\n",
      "  return dispatch_target(*args, **kwargs)\n"
     ]
    },
    {
     "name": "stdout",
     "output_type": "stream",
     "text": [
      "361/361 [==============================] - 14s 36ms/step - loss: 0.6255 - accuracy: 0.8652\n",
      "Epoch 2/8\n",
      "361/361 [==============================] - 13s 36ms/step - loss: 0.1378 - accuracy: 0.9681\n",
      "Epoch 3/8\n",
      "361/361 [==============================] - 13s 36ms/step - loss: 0.1255 - accuracy: 0.9662\n",
      "Epoch 4/8\n",
      "361/361 [==============================] - 13s 35ms/step - loss: 0.1184 - accuracy: 0.9665\n",
      "Epoch 5/8\n",
      "361/361 [==============================] - 12s 35ms/step - loss: 0.1295 - accuracy: 0.9630\n",
      "Epoch 6/8\n",
      "361/361 [==============================] - 14s 37ms/step - loss: 0.0780 - accuracy: 0.9785\n",
      "Epoch 7/8\n",
      "361/361 [==============================] - 13s 37ms/step - loss: 0.0880 - accuracy: 0.9759\n",
      "Epoch 8/8\n",
      "361/361 [==============================] - 13s 36ms/step - loss: 0.0591 - accuracy: 0.9850\n",
      "Classification accuracy: 90.58456742010912\n",
      "Attack Success Rate: 2.270070148090413\n"
     ]
    }
   ],
   "source": [
    "pruned_model.compile(\n",
    "    optimizer='adam',\n",
    "    loss=keras.losses.SparseCategoricalCrossentropy(from_logits=True),\n",
    "    metrics=['accuracy'])\n",
    "pruned_model.fit(x_va_clean, y_val_clean, epochs=8)\n",
    "eval(pruned_model, x_test_clean, y_test_clean, x_anonymous, y_anonymous)"
   ]
  },
  {
   "cell_type": "code",
   "execution_count": 72,
   "metadata": {},
   "outputs": [
    {
     "name": "stderr",
     "output_type": "stream",
     "text": [
      "/opt/anaconda3/lib/python3.8/site-packages/keras/engine/functional.py:1410: CustomMaskWarning: Custom mask layers require a config and must override get_config. When loading, the custom mask layer must be passed to the custom_objects argument.\n",
      "  layer_config = serialize_layer_fn(layer)\n"
     ]
    }
   ],
   "source": [
    "pruned_model.save('repaired_models/repaired_anonymous.h5')"
   ]
  },
  {
   "cell_type": "markdown",
   "metadata": {},
   "source": [
    "### Prune Multi-trigger sunglass badnet"
   ]
  },
  {
   "cell_type": "markdown",
   "metadata": {},
   "source": [
    "Before pruning:"
   ]
  },
  {
   "cell_type": "code",
   "execution_count": 86,
   "metadata": {},
   "outputs": [
    {
     "name": "stdout",
     "output_type": "stream",
     "text": [
      "For eyebrow poisoned data:\n",
      "Classification accuracy: 96.00935307872174\n",
      "Attack Success Rate: 91.34840218238503\n",
      "For lipstick poisoned data:\n",
      "Classification accuracy: 96.00935307872174\n",
      "Attack Success Rate: 91.52377240841777\n",
      "For sunglass poisoned data:\n",
      "Classification accuracy: 96.00935307872174\n",
      "Attack Success Rate: 100.0\n"
     ]
    }
   ],
   "source": [
    "multi_bd = keras.models.load_model(model_multi)\n",
    "print(\"For eyebrow poisoned data:\")\n",
    "eval(multi_bd, x_test_clean, y_test_clean, x_multi_eyebrow, y_multi_eyebrow)\n",
    "print(\"For lipstick poisoned data:\")\n",
    "eval(multi_bd, x_test_clean, y_test_clean, x_multi_lipstick, y_multi_lipstick)\n",
    "print(\"For sunglass poisoned data:\")\n",
    "eval(multi_bd, x_test_clean, y_test_clean, x_multi_sunglass, y_multi_sunglass)"
   ]
  },
  {
   "cell_type": "code",
   "execution_count": 87,
   "metadata": {},
   "outputs": [
    {
     "name": "stdout",
     "output_type": "stream",
     "text": [
      "For eyebrow poisoned data:\n",
      "Classification accuracy: 85.19095869056898\n",
      "Attack Success Rate: 86.0580670303975\n",
      "For lipstick poisoned data:\n",
      "Classification accuracy: 85.19095869056898\n",
      "Attack Success Rate: 19.680436477007017\n",
      "For sunglass poisoned data:\n",
      "Classification accuracy: 85.19095869056898\n",
      "Attack Success Rate: 0.11691348402182386\n"
     ]
    }
   ],
   "source": [
    "pruned_model = keras.models.clone_model(multi_bd)\n",
    "pruned_model.set_weights(multi_bd.get_weights())\n",
    "pruning_layer = pruned_model.get_layer('conv_3')\n",
    "layer_model = keras.Model(inputs=pruned_model.input, outputs=pruned_model.get_layer('conv_3').output)\n",
    "layer_pred = layer_model.predict(x_va_clean).sum(axis=(0, 1, 2))\n",
    "id_sort = np.argsort(layer_pred)\n",
    "limit = 30 #prune 30 channels\n",
    "count = 0\n",
    "for del_i in id_sort:\n",
    "    if layer_pred[del_i] < 1e-5: continue\n",
    "    if count >= limit: break\n",
    "    weights = np.array(pruning_layer.get_weights()[0])\n",
    "    bias = pruning_layer.get_weights()[1]\n",
    "    weights[:, :, :, del_i] = np.zeros((3, 3, 40))\n",
    "    pruning_layer.set_weights(list([weights, bias]))\n",
    "    clean_pred = np.argmax(pruned_model.predict(x_va_clean), axis=1)\n",
    "    acc =  np.mean(np.equal(clean_pred, y_val_clean))\n",
    "    count += 1\n",
    "print(\"For eyebrow poisoned data:\")\n",
    "eval(pruned_model, x_test_clean, y_test_clean, x_multi_eyebrow, y_multi_eyebrow)\n",
    "print(\"For lipstick poisoned data:\")\n",
    "eval(pruned_model, x_test_clean, y_test_clean, x_multi_lipstick, y_multi_lipstick)\n",
    "print(\"For sunglass poisoned data:\")\n",
    "eval(pruned_model, x_test_clean, y_test_clean, x_multi_sunglass, y_multi_sunglass)"
   ]
  },
  {
   "cell_type": "code",
   "execution_count": 88,
   "metadata": {},
   "outputs": [
    {
     "name": "stdout",
     "output_type": "stream",
     "text": [
      "Epoch 1/8\n"
     ]
    },
    {
     "name": "stderr",
     "output_type": "stream",
     "text": [
      "/opt/anaconda3/lib/python3.8/site-packages/tensorflow/python/util/dispatch.py:1096: UserWarning: \"`sparse_categorical_crossentropy` received `from_logits=True`, but the `output` argument was produced by a sigmoid or softmax activation and thus does not represent logits. Was this intended?\"\n",
      "  return dispatch_target(*args, **kwargs)\n"
     ]
    },
    {
     "name": "stdout",
     "output_type": "stream",
     "text": [
      "361/361 [==============================] - 14s 35ms/step - loss: 0.6197 - accuracy: 0.8575\n",
      "Epoch 2/8\n",
      "361/361 [==============================] - 13s 35ms/step - loss: 0.1029 - accuracy: 0.9722\n",
      "Epoch 3/8\n",
      "361/361 [==============================] - 13s 36ms/step - loss: 0.0980 - accuracy: 0.9730\n",
      "Epoch 4/8\n",
      "361/361 [==============================] - 12s 34ms/step - loss: 0.1364 - accuracy: 0.9621\n",
      "Epoch 5/8\n",
      "361/361 [==============================] - 12s 34ms/step - loss: 0.0896 - accuracy: 0.9765\n",
      "Epoch 6/8\n",
      "361/361 [==============================] - 13s 35ms/step - loss: 0.0637 - accuracy: 0.9820\n",
      "Epoch 7/8\n",
      "361/361 [==============================] - 13s 36ms/step - loss: 0.0892 - accuracy: 0.9772\n",
      "Epoch 8/8\n",
      "361/361 [==============================] - 12s 35ms/step - loss: 0.0756 - accuracy: 0.9817\n",
      "For eyebrow poisoned data:\n",
      "Classification accuracy: 88.78409976617303\n",
      "Attack Success Rate: 2.8351519875292284\n",
      "For lipstick poisoned data:\n",
      "Classification accuracy: 88.78409976617303\n",
      "Attack Success Rate: 0.029228371005455965\n",
      "For sunglass poisoned data:\n",
      "Classification accuracy: 88.78409976617303\n",
      "Attack Success Rate: 0.009742790335151987\n"
     ]
    }
   ],
   "source": [
    "pruned_model.compile(\n",
    "    optimizer='adam',\n",
    "    loss=keras.losses.SparseCategoricalCrossentropy(from_logits=True),\n",
    "    metrics=['accuracy'])\n",
    "pruned_model.fit(x_va_clean, y_val_clean, epochs=8)\n",
    "print(\"For eyebrow poisoned data:\")\n",
    "eval(pruned_model, x_test_clean, y_test_clean, x_multi_eyebrow, y_multi_eyebrow)\n",
    "print(\"For lipstick poisoned data:\")\n",
    "eval(pruned_model, x_test_clean, y_test_clean, x_multi_lipstick, y_multi_lipstick)\n",
    "print(\"For sunglass poisoned data:\")\n",
    "eval(pruned_model, x_test_clean, y_test_clean, x_multi_sunglass, y_multi_sunglass)    "
   ]
  },
  {
   "cell_type": "code",
   "execution_count": 89,
   "metadata": {},
   "outputs": [
    {
     "name": "stderr",
     "output_type": "stream",
     "text": [
      "/opt/anaconda3/lib/python3.8/site-packages/keras/engine/functional.py:1410: CustomMaskWarning: Custom mask layers require a config and must override get_config. When loading, the custom mask layer must be passed to the custom_objects argument.\n",
      "  layer_config = serialize_layer_fn(layer)\n"
     ]
    }
   ],
   "source": [
    "pruned_model.save('repaired_models/repaired_multi.h5')"
   ]
  },
  {
   "cell_type": "markdown",
   "metadata": {},
   "source": [
    "### Prune the anonymous model without backdoored data"
   ]
  },
  {
   "cell_type": "code",
   "execution_count": 90,
   "metadata": {},
   "outputs": [],
   "source": [
    "anonymous = keras.models.load_model(model_anonymous_2)\n",
    "pruned_model = keras.models.clone_model(anonymous)\n",
    "pruned_model.set_weights(anonymous.get_weights())\n",
    "pruning_layer = pruned_model.get_layer('conv_3')\n",
    "layer_model = keras.Model(inputs=pruned_model.input, outputs=pruned_model.get_layer('conv_3').output)\n",
    "layer_pred = layer_model.predict(x_va_clean).sum(axis=(0, 1, 2))\n",
    "id_sort = np.argsort(layer_pred)\n",
    "limit = 30 #prune 30 channels\n",
    "count = 0\n",
    "for del_i in id_sort:\n",
    "    if layer_pred[del_i] < 1e-5: continue\n",
    "    if count >= limit: break\n",
    "    weights = np.array(pruning_layer.get_weights()[0])\n",
    "    bias = pruning_layer.get_weights()[1]\n",
    "    weights[:, :, :, del_i] = np.zeros((3, 3, 40))\n",
    "    pruning_layer.set_weights(list([weights, bias]))\n",
    "    clean_pred = np.argmax(pruned_model.predict(x_va_clean), axis=1)\n",
    "    acc =  np.mean(np.equal(clean_pred, y_val_clean))\n",
    "    count += 1"
   ]
  },
  {
   "cell_type": "code",
   "execution_count": 91,
   "metadata": {},
   "outputs": [
    {
     "name": "stdout",
     "output_type": "stream",
     "text": [
      "WARNING:tensorflow:Compiled the loaded model, but the compiled metrics have yet to be built. `model.compile_metrics` will be empty until you train or evaluate the model.\n"
     ]
    },
    {
     "name": "stderr",
     "output_type": "stream",
     "text": [
      "/opt/anaconda3/lib/python3.8/site-packages/keras/engine/functional.py:1410: CustomMaskWarning: Custom mask layers require a config and must override get_config. When loading, the custom mask layer must be passed to the custom_objects argument.\n",
      "  layer_config = serialize_layer_fn(layer)\n"
     ]
    }
   ],
   "source": [
    "pruned_model.save('repaired_models/repaired_anonymous_2.h5')"
   ]
  }
 ],
 "metadata": {
  "interpreter": {
   "hash": "40d3a090f54c6569ab1632332b64b2c03c39dcf918b08424e98f38b5ae0af88f"
  },
  "kernelspec": {
   "display_name": "Python 3.8.3 64-bit ('base': conda)",
   "language": "python",
   "name": "python3"
  },
  "language_info": {
   "codemirror_mode": {
    "name": "ipython",
    "version": 3
   },
   "file_extension": ".py",
   "mimetype": "text/x-python",
   "name": "python",
   "nbconvert_exporter": "python",
   "pygments_lexer": "ipython3",
   "version": "3.8.3"
  },
  "orig_nbformat": 4
 },
 "nbformat": 4,
 "nbformat_minor": 2
}
